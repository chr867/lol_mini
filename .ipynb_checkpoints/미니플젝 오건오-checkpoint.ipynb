{
 "cells": [
  {
   "cell_type": "markdown",
   "id": "37fe8156",
   "metadata": {},
   "source": [
    "# 미니프로젝트"
   ]
  },
  {
   "cell_type": "raw",
   "id": "73ceb24b",
   "metadata": {},
   "source": [
    "-APT를 통해서 라이엇데이터 수집하기(로우데이터 DF만들기)-티어는 자유\n",
    "-불러온 데이터를 전처리하기(중복제거, nar값 제거) matches,timeline합져서 최소컬럼 25개\n",
    "-위의 과정을 함수화해서 모듈만들기\n",
    "\n",
    "-전처리된 로우데이터를 오라클 or mysql에 저장하기 ->최소 5만개\n",
    "-팀과 함께 상의해서 흥미롭고 재밌을거 같은 주제 3가지 선정\n",
    "-지표분석을 통해 나온 df를 시각화 모듈을 사용해서 표현하세요(3개중 2개 필수)\n",
    "-전처리부터 시각화까지 캡쳐해서 폴더에 저장\n",
    "-개발보고서.ppt를 만들어서 간단하게 발표예정\n",
    "-모든 py파일, ipynb파일, 사진, 개발보고서, ppt 다 하나의 폴더로 압축\n",
    "-appdaa6@gmail.com\n",
    "-목요일 점심 전까지 오후에 발표"
   ]
  },
  {
   "cell_type": "raw",
   "id": "5703b12d",
   "metadata": {},
   "source": [
    "- 와드설치횟수 파괴횟수 승률\n",
    "- 프로필에 따른 승률\n",
    "- 퍼블 포블에 따른 승률"
   ]
  },
  {
   "cell_type": "code",
   "execution_count": 155,
   "id": "13a519e7",
   "metadata": {},
   "outputs": [],
   "source": [
    "import requests\n",
    "from tqdm import tqdm\n",
    "import pandas as pd\n",
    "import numpy as np\n",
    "import time\n",
    "import my_utils_PJ as mu\n",
    "import math\n",
    "import random\n",
    "import imp\n",
    "import matplotlib.pyplot as plt\n",
    "import seaborn as sns\n",
    "import plotly\n",
    "import plotly.graph_objs as go\n",
    "import plotly.express as px\n",
    "imp.reload(mu)\n",
    "tqdm.pandas()"
   ]
  },
  {
   "cell_type": "markdown",
   "id": "1c726b3f",
   "metadata": {},
   "source": [
    "# 확률 구하기"
   ]
  },
  {
   "cell_type": "code",
   "execution_count": 145,
   "id": "d1e8d0e6",
   "metadata": {},
   "outputs": [],
   "source": [
    "sql_conn = mu.connect_mysql('icia')\n",
    "df = pd.DataFrame(mu.mysql_execute_dict('select * from lol_mini', sql_conn))"
   ]
  },
  {
   "cell_type": "code",
   "execution_count": 146,
   "id": "64aa569d",
   "metadata": {},
   "outputs": [],
   "source": [
    "fc= df[['gameId','teamId','win','firstChampion','firstDragon','firstTower']]"
   ]
  },
  {
   "cell_type": "code",
   "execution_count": null,
   "id": "c8f64684",
   "metadata": {},
   "outputs": [],
   "source": [
    "# 퍼블 퍼드 포블일 경우 승률\n",
    "first=fc[(fc['firstChampion']=='True')&(fc['firstDragon']=='True')&(fc['firstTower']=='True')]\n",
    "len(first)\n",
    "round(len(first[first['win']=='True'])/len(first)*100,2)"
   ]
  },
  {
   "cell_type": "code",
   "execution_count": null,
   "id": "daefa944",
   "metadata": {},
   "outputs": [],
   "source": [
    "fc2=fc[fc['win']=='True']"
   ]
  },
  {
   "cell_type": "code",
   "execution_count": 107,
   "id": "c412987b",
   "metadata": {},
   "outputs": [
    {
     "name": "stderr",
     "output_type": "stream",
     "text": [
      "C:\\Users\\user\\AppData\\Local\\Temp\\ipykernel_4288\\2474505043.py:1: SettingWithCopyWarning: \n",
      "A value is trying to be set on a copy of a slice from a DataFrame.\n",
      "Try using .loc[row_indexer,col_indexer] = value instead\n",
      "\n",
      "See the caveats in the documentation: https://pandas.pydata.org/pandas-docs/stable/user_guide/indexing.html#returning-a-view-versus-a-copy\n",
      "  fc2['firstChampion']=fc2['firstChampion'].apply(lambda x:1 if x=='True' else 0)\n",
      "C:\\Users\\user\\AppData\\Local\\Temp\\ipykernel_4288\\2474505043.py:2: SettingWithCopyWarning: \n",
      "A value is trying to be set on a copy of a slice from a DataFrame.\n",
      "Try using .loc[row_indexer,col_indexer] = value instead\n",
      "\n",
      "See the caveats in the documentation: https://pandas.pydata.org/pandas-docs/stable/user_guide/indexing.html#returning-a-view-versus-a-copy\n",
      "  fc2['firstDragon']=fc2['firstDragon'].apply(lambda x:1 if x=='True' else 0)\n",
      "C:\\Users\\user\\AppData\\Local\\Temp\\ipykernel_4288\\2474505043.py:3: SettingWithCopyWarning: \n",
      "A value is trying to be set on a copy of a slice from a DataFrame.\n",
      "Try using .loc[row_indexer,col_indexer] = value instead\n",
      "\n",
      "See the caveats in the documentation: https://pandas.pydata.org/pandas-docs/stable/user_guide/indexing.html#returning-a-view-versus-a-copy\n",
      "  fc2['firstTower']=fc2['firstTower'].apply(lambda x:1 if x=='True' else 0)\n"
     ]
    }
   ],
   "source": [
    "fc2['firstChampion']=fc2['firstChampion'].apply(lambda x:1 if x=='True' else 0)\n",
    "fc2['firstDragon']=fc2['firstDragon'].apply(lambda x:1 if x=='True' else 0)\n",
    "fc2['firstTower']=fc2['firstTower'].apply(lambda x:1 if x=='True' else 0)"
   ]
  },
  {
   "cell_type": "code",
   "execution_count": 121,
   "id": "7ef93cdd",
   "metadata": {},
   "outputs": [
    {
     "data": {
      "text/plain": [
       "33.33"
      ]
     },
     "execution_count": 121,
     "metadata": {},
     "output_type": "execute_result"
    }
   ],
   "source": [
    "# 퍼블 승률\n",
    "round(fc2['firstChampion'].sum()/len(fc2)*100,2)"
   ]
  },
  {
   "cell_type": "code",
   "execution_count": 122,
   "id": "e0666bb2",
   "metadata": {},
   "outputs": [
    {
     "data": {
      "text/plain": [
       "66.67"
      ]
     },
     "execution_count": 122,
     "metadata": {},
     "output_type": "execute_result"
    }
   ],
   "source": [
    "# 퍼드 승률\n",
    "round(fc2['firstDragon'].sum()/len(fc2)*100,2)"
   ]
  },
  {
   "cell_type": "code",
   "execution_count": 123,
   "id": "c097f73d",
   "metadata": {},
   "outputs": [
    {
     "data": {
      "text/plain": [
       "86.67"
      ]
     },
     "execution_count": 123,
     "metadata": {},
     "output_type": "execute_result"
    }
   ],
   "source": [
    "# 포블 승률\n",
    "round(fc2['firstTower'].sum()/len(fc2)*100,2)"
   ]
  },
  {
   "cell_type": "code",
   "execution_count": 137,
   "id": "56474085",
   "metadata": {},
   "outputs": [],
   "source": []
  },
  {
   "cell_type": "code",
   "execution_count": null,
   "id": "5cea6d74",
   "metadata": {},
   "outputs": [],
   "source": []
  },
  {
   "cell_type": "code",
   "execution_count": null,
   "id": "ce5cbfcf",
   "metadata": {},
   "outputs": [],
   "source": []
  },
  {
   "cell_type": "code",
   "execution_count": null,
   "id": "0fc29508",
   "metadata": {},
   "outputs": [],
   "source": []
  },
  {
   "cell_type": "code",
   "execution_count": null,
   "id": "cb70607d",
   "metadata": {},
   "outputs": [],
   "source": []
  },
  {
   "cell_type": "code",
   "execution_count": null,
   "id": "0b015815",
   "metadata": {},
   "outputs": [],
   "source": []
  },
  {
   "cell_type": "code",
   "execution_count": null,
   "id": "165df071",
   "metadata": {},
   "outputs": [],
   "source": []
  },
  {
   "cell_type": "code",
   "execution_count": null,
   "id": "300e1762",
   "metadata": {},
   "outputs": [],
   "source": []
  },
  {
   "cell_type": "code",
   "execution_count": null,
   "id": "824cffef",
   "metadata": {},
   "outputs": [],
   "source": []
  },
  {
   "cell_type": "code",
   "execution_count": null,
   "id": "d0d94f48",
   "metadata": {},
   "outputs": [],
   "source": []
  },
  {
   "cell_type": "code",
   "execution_count": null,
   "id": "765cf471",
   "metadata": {},
   "outputs": [],
   "source": []
  },
  {
   "cell_type": "code",
   "execution_count": null,
   "id": "43b72b95",
   "metadata": {},
   "outputs": [],
   "source": []
  },
  {
   "cell_type": "code",
   "execution_count": null,
   "id": "a625dafe",
   "metadata": {},
   "outputs": [],
   "source": []
  },
  {
   "cell_type": "code",
   "execution_count": null,
   "id": "4e9f2754",
   "metadata": {},
   "outputs": [],
   "source": []
  },
  {
   "cell_type": "code",
   "execution_count": null,
   "id": "47b2eb7f",
   "metadata": {},
   "outputs": [],
   "source": []
  },
  {
   "cell_type": "code",
   "execution_count": null,
   "id": "70fdf6f2",
   "metadata": {},
   "outputs": [],
   "source": []
  }
 ],
 "metadata": {
  "kernelspec": {
   "display_name": "Python 3 (ipykernel)",
   "language": "python",
   "name": "python3"
  },
  "language_info": {
   "codemirror_mode": {
    "name": "ipython",
    "version": 3
   },
   "file_extension": ".py",
   "mimetype": "text/x-python",
   "name": "python",
   "nbconvert_exporter": "python",
   "pygments_lexer": "ipython3",
   "version": "3.9.13"
  }
 },
 "nbformat": 4,
 "nbformat_minor": 5
}

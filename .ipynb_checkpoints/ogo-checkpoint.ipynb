{
 "cells": [
  {
   "cell_type": "markdown",
   "id": "37fe8156",
   "metadata": {},
   "source": [
    "# 미니프로젝트"
   ]
  },
  {
   "cell_type": "raw",
   "id": "73ceb24b",
   "metadata": {},
   "source": [
    "-APT를 통해서 라이엇데이터 수집하기(로우데이터 DF만들기)-티어는 자유\n",
    "-불러온 데이터를 전처리하기(중복제거, nar값 제거) matches,timeline합져서 최소컬럼 25개\n",
    "-위의 과정을 함수화해서 모듈만들기\n",
    "\n",
    "-전처리된 로우데이터를 오라클 or mysql에 저장하기 ->최소 5만개\n",
    "-팀과 함께 상의해서 흥미롭고 재밌을거 같은 주제 3가지 선정\n",
    "-지표분석을 통해 나온 df를 시각화 모듈을 사용해서 표현하세요(3개중 2개 필수)\n",
    "-전처리부터 시각화까지 캡쳐해서 폴더에 저장\n",
    "-개발보고서.ppt를 만들어서 간단하게 발표예정\n",
    "-모든 py파일, ipynb파일, 사진, 개발보고서, ppt 다 하나의 폴더로 압축\n",
    "-appdaa6@gmail.com\n",
    "-목요일 점심 전까지 오후에 발표"
   ]
  },
  {
   "cell_type": "raw",
   "id": "5703b12d",
   "metadata": {},
   "source": [
    "- 와드설치횟수 파괴횟수 승률\n",
    "- 프로필에 따른 승률\n",
    "- 퍼블 포블에 따른 승률"
   ]
  },
  {
   "cell_type": "code",
   "execution_count": 155,
   "id": "13a519e7",
   "metadata": {},
   "outputs": [],
   "source": [
    "import requests\n",
    "from tqdm import tqdm\n",
    "import pandas as pd\n",
    "import numpy as np\n",
    "import time\n",
    "import my_utils_PJ as mu\n",
    "import math\n",
    "import random\n",
    "import imp\n",
    "import matplotlib.pyplot as plt\n",
    "import seaborn as sns\n",
    "import plotly\n",
    "import plotly.graph_objs as go\n",
    "import plotly.express as px\n",
    "imp.reload(mu)\n",
    "tqdm.pandas()"
   ]
  },
  {
   "cell_type": "code",
   "execution_count": 180,
   "id": "0e681a44",
   "metadata": {},
   "outputs": [],
   "source": [
    "# 폰트 조정\n",
    "from matplotlib import font_manager, rc\n",
    "font_path = \"C:/Windows/Fonts/gulim.ttc\"\n",
    "font = font_manager.FontProperties(fname=font_path).get_name()\n",
    "rc('font', family=font) # 윈도우"
   ]
  },
  {
   "cell_type": "markdown",
   "id": "bc25ceb7",
   "metadata": {},
   "source": [
    "# 확률 구하기"
   ]
  },
  {
   "cell_type": "code",
   "execution_count": 220,
   "id": "d1e8d0e6",
   "metadata": {},
   "outputs": [],
   "source": [
    "sql_conn = mu.connect_mysql('icia')\n",
    "df = pd.DataFrame(mu.mysql_execute_dict('select * from lol_mini', sql_conn))"
   ]
  },
  {
   "cell_type": "code",
   "execution_count": 221,
   "id": "64aa569d",
   "metadata": {},
   "outputs": [],
   "source": [
    "winrate= df[['gameId','teamId','win','firstChampion','firstDragon','firstTower']]"
   ]
  },
  {
   "cell_type": "code",
   "execution_count": 222,
   "id": "61335b6f",
   "metadata": {},
   "outputs": [
    {
     "data": {
      "text/plain": [
       "86.67"
      ]
     },
     "execution_count": 222,
     "metadata": {},
     "output_type": "execute_result"
    }
   ],
   "source": [
    "# 퍼블 퍼드 포블일 경우 승률\n",
    "fb_fd_ft=winrate[(winrate['firstChampion']=='True')&(winrate['firstDragon']=='True')&(winrate['firstTower']=='True')]\n",
    "len(fb_fd_ft)\n",
    "round(len(fb_fd_ft[fb_fd_ft['win']=='True'])/len(fb_fd_ft)*100,2)"
   ]
  },
  {
   "cell_type": "code",
   "execution_count": 223,
   "id": "f300fd54",
   "metadata": {},
   "outputs": [
    {
     "data": {
      "text/plain": [
       "77.78"
      ]
     },
     "execution_count": 223,
     "metadata": {},
     "output_type": "execute_result"
    }
   ],
   "source": [
    "# 퍼블 퍼드일 경우 승률\n",
    "fb_fd=winrate[(winrate['firstChampion']=='True')&(winrate['firstDragon']=='True')]\n",
    "len(fb_fd)\n",
    "round(len(fb_fd[fb_fd['win']=='True'])/len(fb_fd)*100,2)"
   ]
  },
  {
   "cell_type": "code",
   "execution_count": 224,
   "id": "6ec5ecf5",
   "metadata": {},
   "outputs": [
    {
     "data": {
      "text/plain": [
       "81.32"
      ]
     },
     "execution_count": 224,
     "metadata": {},
     "output_type": "execute_result"
    }
   ],
   "source": [
    "# 퍼블 포블일 경우 승률\n",
    "fb_ft=winrate[(winrate['firstChampion']=='True')&(winrate['firstTower']=='True')]\n",
    "len(fb_ft)\n",
    "round(len(fb_ft[fb_ft['win']=='True'])/len(fb_ft)*100,2)"
   ]
  },
  {
   "cell_type": "code",
   "execution_count": 225,
   "id": "9d9ced67",
   "metadata": {},
   "outputs": [
    {
     "data": {
      "text/plain": [
       "83.0"
      ]
     },
     "execution_count": 225,
     "metadata": {},
     "output_type": "execute_result"
    }
   ],
   "source": [
    "# 퍼드 포블일 경우 승률\n",
    "fd_ft=winrate[(winrate['firstDragon']=='True')&(winrate['firstTower']=='True')]\n",
    "len(fd_ft)\n",
    "round(len(fd_ft[fd_ft['win']=='True'])/len(fd_ft)*100,2)"
   ]
  },
  {
   "cell_type": "code",
   "execution_count": 226,
   "id": "536baa0c",
   "metadata": {},
   "outputs": [
    {
     "data": {
      "text/plain": [
       "61.84"
      ]
     },
     "execution_count": 226,
     "metadata": {},
     "output_type": "execute_result"
    }
   ],
   "source": [
    "# 퍼블 승률\n",
    "fb=winrate[winrate['firstChampion']=='True']\n",
    "round(len(fb[fb['win']=='True'])/len(fb)*100,2)"
   ]
  },
  {
   "cell_type": "code",
   "execution_count": 227,
   "id": "eead9980",
   "metadata": {},
   "outputs": [
    {
     "data": {
      "text/plain": [
       "67.76"
      ]
     },
     "execution_count": 227,
     "metadata": {},
     "output_type": "execute_result"
    }
   ],
   "source": [
    "# 퍼드 승률\n",
    "fd=winrate[winrate['firstDragon']=='True']\n",
    "round(len(fd[fd['win']=='True'])/len(fd)*100,2)"
   ]
  },
  {
   "cell_type": "code",
   "execution_count": 228,
   "id": "59e1d347",
   "metadata": {},
   "outputs": [
    {
     "data": {
      "text/plain": [
       "75.66"
      ]
     },
     "execution_count": 228,
     "metadata": {},
     "output_type": "execute_result"
    }
   ],
   "source": [
    "# 포블 승률\n",
    "ft=winrate[winrate['firstTower']=='True']\n",
    "round(len(ft[ft['win']=='True'])/len(ft)*100,2)"
   ]
  },
  {
   "cell_type": "code",
   "execution_count": 207,
   "id": "56474085",
   "metadata": {},
   "outputs": [],
   "source": [
    "# win 퍼블 퍼드 포블 bool값을 int로 변경\n",
    "winrate2 = winrate.copy()\n",
    "winrate2['win']=winrate2['win'].apply(lambda x:1 if x=='True' else 0)\n",
    "winrate2['firstChampion']=winrate2['firstChampion'].apply(lambda x:1 if x=='True' else 0)\n",
    "winrate2['firstDragon']=winrate2['firstDragon'].apply(lambda x:1 if x=='True' else 0)\n",
    "winrate2['firstTower']=winrate2['firstTower'].apply(lambda x:1 if x=='True' else 0)"
   ]
  },
  {
   "cell_type": "code",
   "execution_count": 213,
   "id": "461ac17f",
   "metadata": {},
   "outputs": [
    {
     "data": {
      "text/html": [
       "<div>\n",
       "<style scoped>\n",
       "    .dataframe tbody tr th:only-of-type {\n",
       "        vertical-align: middle;\n",
       "    }\n",
       "\n",
       "    .dataframe tbody tr th {\n",
       "        vertical-align: top;\n",
       "    }\n",
       "\n",
       "    .dataframe thead th {\n",
       "        text-align: right;\n",
       "    }\n",
       "</style>\n",
       "<table border=\"1\" class=\"dataframe\">\n",
       "  <thead>\n",
       "    <tr style=\"text-align: right;\">\n",
       "      <th></th>\n",
       "      <th>gameId</th>\n",
       "      <th>teamId</th>\n",
       "      <th>win</th>\n",
       "      <th>firstChampion</th>\n",
       "      <th>firstDragon</th>\n",
       "      <th>firstTower</th>\n",
       "    </tr>\n",
       "  </thead>\n",
       "  <tbody>\n",
       "    <tr>\n",
       "      <th>0</th>\n",
       "      <td>KR_6398231164</td>\n",
       "      <td>100</td>\n",
       "      <td>False</td>\n",
       "      <td>False</td>\n",
       "      <td>False</td>\n",
       "      <td>True</td>\n",
       "    </tr>\n",
       "    <tr>\n",
       "      <th>1</th>\n",
       "      <td>KR_6398231164</td>\n",
       "      <td>100</td>\n",
       "      <td>False</td>\n",
       "      <td>False</td>\n",
       "      <td>False</td>\n",
       "      <td>True</td>\n",
       "    </tr>\n",
       "    <tr>\n",
       "      <th>2</th>\n",
       "      <td>KR_6398231164</td>\n",
       "      <td>100</td>\n",
       "      <td>False</td>\n",
       "      <td>False</td>\n",
       "      <td>False</td>\n",
       "      <td>True</td>\n",
       "    </tr>\n",
       "    <tr>\n",
       "      <th>3</th>\n",
       "      <td>KR_6398231164</td>\n",
       "      <td>100</td>\n",
       "      <td>False</td>\n",
       "      <td>False</td>\n",
       "      <td>False</td>\n",
       "      <td>True</td>\n",
       "    </tr>\n",
       "    <tr>\n",
       "      <th>4</th>\n",
       "      <td>KR_6398231164</td>\n",
       "      <td>100</td>\n",
       "      <td>False</td>\n",
       "      <td>False</td>\n",
       "      <td>False</td>\n",
       "      <td>True</td>\n",
       "    </tr>\n",
       "    <tr>\n",
       "      <th>5</th>\n",
       "      <td>KR_6398231164</td>\n",
       "      <td>200</td>\n",
       "      <td>True</td>\n",
       "      <td>True</td>\n",
       "      <td>True</td>\n",
       "      <td>False</td>\n",
       "    </tr>\n",
       "    <tr>\n",
       "      <th>6</th>\n",
       "      <td>KR_6398231164</td>\n",
       "      <td>200</td>\n",
       "      <td>True</td>\n",
       "      <td>True</td>\n",
       "      <td>True</td>\n",
       "      <td>False</td>\n",
       "    </tr>\n",
       "    <tr>\n",
       "      <th>7</th>\n",
       "      <td>KR_6398231164</td>\n",
       "      <td>200</td>\n",
       "      <td>True</td>\n",
       "      <td>True</td>\n",
       "      <td>True</td>\n",
       "      <td>False</td>\n",
       "    </tr>\n",
       "    <tr>\n",
       "      <th>8</th>\n",
       "      <td>KR_6398231164</td>\n",
       "      <td>200</td>\n",
       "      <td>True</td>\n",
       "      <td>True</td>\n",
       "      <td>True</td>\n",
       "      <td>False</td>\n",
       "    </tr>\n",
       "    <tr>\n",
       "      <th>9</th>\n",
       "      <td>KR_6398231164</td>\n",
       "      <td>200</td>\n",
       "      <td>True</td>\n",
       "      <td>True</td>\n",
       "      <td>True</td>\n",
       "      <td>False</td>\n",
       "    </tr>\n",
       "  </tbody>\n",
       "</table>\n",
       "</div>"
      ],
      "text/plain": [
       "          gameId  teamId    win firstChampion firstDragon firstTower\n",
       "0  KR_6398231164     100  False         False       False       True\n",
       "1  KR_6398231164     100  False         False       False       True\n",
       "2  KR_6398231164     100  False         False       False       True\n",
       "3  KR_6398231164     100  False         False       False       True\n",
       "4  KR_6398231164     100  False         False       False       True\n",
       "5  KR_6398231164     200   True          True        True      False\n",
       "6  KR_6398231164     200   True          True        True      False\n",
       "7  KR_6398231164     200   True          True        True      False\n",
       "8  KR_6398231164     200   True          True        True      False\n",
       "9  KR_6398231164     200   True          True        True      False"
      ]
     },
     "execution_count": 213,
     "metadata": {},
     "output_type": "execute_result"
    }
   ],
   "source": [
    "winrate[:10]"
   ]
  },
  {
   "cell_type": "code",
   "execution_count": null,
   "id": "5cea6d74",
   "metadata": {},
   "outputs": [],
   "source": []
  },
  {
   "cell_type": "code",
   "execution_count": null,
   "id": "b6713d31",
   "metadata": {},
   "outputs": [],
   "source": []
  },
  {
   "cell_type": "code",
   "execution_count": null,
   "id": "5428c228",
   "metadata": {},
   "outputs": [],
   "source": []
  },
  {
   "cell_type": "code",
   "execution_count": null,
   "id": "97d55e3c",
   "metadata": {},
   "outputs": [],
   "source": []
  },
  {
   "cell_type": "code",
   "execution_count": null,
   "id": "2aecb43b",
   "metadata": {},
   "outputs": [],
   "source": []
  },
  {
   "cell_type": "code",
   "execution_count": null,
   "id": "2bf55c87",
   "metadata": {},
   "outputs": [],
   "source": []
  },
  {
   "cell_type": "code",
   "execution_count": null,
   "id": "cc3517d5",
   "metadata": {},
   "outputs": [],
   "source": []
  },
  {
   "cell_type": "code",
   "execution_count": null,
   "id": "4e5fb68f",
   "metadata": {},
   "outputs": [],
   "source": []
  },
  {
   "cell_type": "code",
   "execution_count": null,
   "id": "d0d94f48",
   "metadata": {},
   "outputs": [],
   "source": []
  },
  {
   "cell_type": "code",
   "execution_count": null,
   "id": "765cf471",
   "metadata": {},
   "outputs": [],
   "source": []
  },
  {
   "cell_type": "code",
   "execution_count": null,
   "id": "43b72b95",
   "metadata": {},
   "outputs": [],
   "source": []
  },
  {
   "cell_type": "code",
   "execution_count": null,
   "id": "a625dafe",
   "metadata": {},
   "outputs": [],
   "source": []
  },
  {
   "cell_type": "code",
   "execution_count": null,
   "id": "4e9f2754",
   "metadata": {},
   "outputs": [],
   "source": []
  },
  {
   "cell_type": "code",
   "execution_count": null,
   "id": "47b2eb7f",
   "metadata": {},
   "outputs": [],
   "source": []
  },
  {
   "cell_type": "code",
   "execution_count": null,
   "id": "70fdf6f2",
   "metadata": {},
   "outputs": [],
   "source": []
  }
 ],
 "metadata": {
  "kernelspec": {
   "display_name": "Python 3 (ipykernel)",
   "language": "python",
   "name": "python3"
  },
  "language_info": {
   "codemirror_mode": {
    "name": "ipython",
    "version": 3
   },
   "file_extension": ".py",
   "mimetype": "text/x-python",
   "name": "python",
   "nbconvert_exporter": "python",
   "pygments_lexer": "ipython3",
   "version": "3.9.13"
  }
 },
 "nbformat": 4,
 "nbformat_minor": 5
}

{
 "cells": [
  {
   "cell_type": "markdown",
   "id": "37fe8156",
   "metadata": {},
   "source": [
    "# 미니프로젝트"
   ]
  },
  {
   "cell_type": "raw",
   "id": "73ceb24b",
   "metadata": {},
   "source": [
    "-APT를 통해서 라이엇데이터 수집하기(로우데이터 DF만들기)-티어는 자유\n",
    "-불러온 데이터를 전처리하기(중복제거, nar값 제거) matches,timeline합져서 최소컬럼 25개\n",
    "-위의 과정을 함수화해서 모듈만들기\n",
    "\n",
    "-전처리된 로우데이터를 오라클 or mysql에 저장하기 ->최소 5만개\n",
    "-팀과 함께 상의해서 흥미롭고 재밌을거 같은 주제 3가지 선정\n",
    "-지표분석을 통해 나온 df를 시각화 모듈을 사용해서 표현하세요(3개중 2개 필수)\n",
    "-전처리부터 시각화까지 캡쳐해서 폴더에 저장\n",
    "-개발보고서.ppt를 만들어서 간단하게 발표예정\n",
    "-모든 py파일, ipynb파일, 사진, 개발보고서, ppt 다 하나의 폴더로 압축\n",
    "-appdaa6@gmail.com\n",
    "-목요일 점심 전까지 오후에 발표"
   ]
  },
  {
   "cell_type": "raw",
   "id": "5703b12d",
   "metadata": {},
   "source": [
    "- 와드설치횟수 파괴횟수 승률\n",
    "- 프로필에 따른 승률\n",
    "- 퍼블 퍼드 포블에 따른 승률"
   ]
  },
  {
   "cell_type": "code",
   "execution_count": 1,
   "id": "13a519e7",
   "metadata": {},
   "outputs": [
    {
     "name": "stderr",
     "output_type": "stream",
     "text": [
      "C:\\Users\\user\\AppData\\Local\\Temp\\ipykernel_9356\\3262907889.py:9: DeprecationWarning: the imp module is deprecated in favour of importlib; see the module's documentation for alternative uses\n",
      "  import imp\n"
     ]
    }
   ],
   "source": [
    "import requests\n",
    "from tqdm import tqdm\n",
    "import pandas as pd\n",
    "import numpy as np\n",
    "import time\n",
    "import my_utils_PJ as mu\n",
    "import math\n",
    "import random\n",
    "import imp\n",
    "import matplotlib.pyplot as plt\n",
    "import seaborn as sns\n",
    "import plotly\n",
    "import plotly.graph_objs as go\n",
    "import plotly.express as px\n",
    "imp.reload(mu)\n",
    "tqdm.pandas()"
   ]
  },
  {
   "cell_type": "code",
   "execution_count": 2,
   "id": "86a5103a",
   "metadata": {},
   "outputs": [],
   "source": [
    "# 폰트 조정\n",
    "from matplotlib import font_manager, rc\n",
    "font_path = \"C:/Windows/Fonts/gulim.ttc\"\n",
    "font = font_manager.FontProperties(fname=font_path).get_name()\n",
    "rc('font', family=font) # 윈도우"
   ]
  },
  {
   "cell_type": "markdown",
   "id": "087c442a",
   "metadata": {},
   "source": [
    "# 확률 구하기"
   ]
  },
  {
   "cell_type": "code",
   "execution_count": 229,
   "id": "d1e8d0e6",
   "metadata": {},
   "outputs": [],
   "source": [
    "sql_conn = mu.connect_mysql('icia')\n",
    "df = pd.DataFrame(mu.mysql_execute_dict('select * from lol_mini', sql_conn))\n",
    "sql_conn.close()"
   ]
  },
  {
   "cell_type": "code",
   "execution_count": 230,
   "id": "64aa569d",
   "metadata": {},
   "outputs": [],
   "source": [
    "winrate= df[['gameId','teamId','win','firstChampion','firstDragon','firstTower']]"
   ]
  },
  {
   "cell_type": "code",
   "execution_count": 8,
   "id": "ab91bb94",
   "metadata": {},
   "outputs": [
    {
     "data": {
      "text/plain": [
       "84.88"
      ]
     },
     "execution_count": 8,
     "metadata": {},
     "output_type": "execute_result"
    }
   ],
   "source": [
    "# 퍼블 퍼드 포블일 경우 승률\n",
    "fb_fd_ft=winrate[(winrate['firstChampion']=='True')&(winrate['firstDragon']=='True')&(winrate['firstTower']=='True')]\n",
    "len(fb_fd_ft)\n",
    "round(len(fb_fd_ft[fb_fd_ft['win']=='True'])/len(fb_fd_ft)*100,2)"
   ]
  },
  {
   "cell_type": "code",
   "execution_count": 9,
   "id": "460fc606",
   "metadata": {},
   "outputs": [
    {
     "data": {
      "text/plain": [
       "73.14"
      ]
     },
     "execution_count": 9,
     "metadata": {},
     "output_type": "execute_result"
    }
   ],
   "source": [
    "# 퍼블 퍼드일 경우 승률\n",
    "fb_fd=winrate[(winrate['firstChampion']=='True')&(winrate['firstDragon']=='True')]\n",
    "len(fb_fd)\n",
    "round(len(fb_fd[fb_fd['win']=='True'])/len(fb_fd)*100,2)"
   ]
  },
  {
   "cell_type": "code",
   "execution_count": 10,
   "id": "e6cf0c6a",
   "metadata": {},
   "outputs": [
    {
     "data": {
      "text/plain": [
       "76.21"
      ]
     },
     "execution_count": 10,
     "metadata": {},
     "output_type": "execute_result"
    }
   ],
   "source": [
    "# 퍼블 포블일 경우 승률\n",
    "fb_ft=winrate[(winrate['firstChampion']=='True')&(winrate['firstTower']=='True')]\n",
    "len(fb_ft)\n",
    "round(len(fb_ft[fb_ft['win']=='True'])/len(fb_ft)*100,2)"
   ]
  },
  {
   "cell_type": "code",
   "execution_count": 11,
   "id": "889fbbe1",
   "metadata": {},
   "outputs": [
    {
     "data": {
      "text/plain": [
       "82.4"
      ]
     },
     "execution_count": 11,
     "metadata": {},
     "output_type": "execute_result"
    }
   ],
   "source": [
    "# 퍼드 포블일 경우 승률\n",
    "fd_ft=winrate[(winrate['firstDragon']=='True')&(winrate['firstTower']=='True')]\n",
    "len(fd_ft)\n",
    "round(len(fd_ft[fd_ft['win']=='True'])/len(fd_ft)*100,2)"
   ]
  },
  {
   "cell_type": "code",
   "execution_count": 12,
   "id": "e654d8e2",
   "metadata": {},
   "outputs": [
    {
     "data": {
      "text/plain": [
       "59.95"
      ]
     },
     "execution_count": 12,
     "metadata": {},
     "output_type": "execute_result"
    }
   ],
   "source": [
    "# 퍼블 승률\n",
    "fb=winrate[winrate['firstChampion']=='True']\n",
    "round(len(fb[fb['win']=='True'])/len(fb)*100,2)"
   ]
  },
  {
   "cell_type": "code",
   "execution_count": 37,
   "id": "8bab67a9",
   "metadata": {},
   "outputs": [
    {
     "data": {
      "text/plain": [
       "68.7"
      ]
     },
     "execution_count": 37,
     "metadata": {},
     "output_type": "execute_result"
    }
   ],
   "source": [
    "# 퍼드 승률\n",
    "fd=winrate[winrate['firstDragon']=='True']\n",
    "round(len(fd[fd['win']=='True'])/len(fd)*100,2)"
   ]
  },
  {
   "cell_type": "code",
   "execution_count": 14,
   "id": "ff082f85",
   "metadata": {},
   "outputs": [
    {
     "data": {
      "text/plain": [
       "72.8"
      ]
     },
     "execution_count": 14,
     "metadata": {},
     "output_type": "execute_result"
    }
   ],
   "source": [
    "# 포블 승률\n",
    "ft=winrate[winrate['firstTower']=='True']\n",
    "round(len(ft[ft['win']=='True'])/len(ft)*100,2)"
   ]
  },
  {
   "cell_type": "code",
   "execution_count": 207,
   "id": "56474085",
   "metadata": {},
   "outputs": [],
   "source": [
    "# win 퍼블 퍼드 포블 bool값을 int로 변경\n",
    "winrate2 = winrate.copy()\n",
    "winrate2['win']=winrate2['win'].apply(lambda x:1 if x=='True' else 0)\n",
    "winrate2['firstChampion']=winrate2['firstChampion'].apply(lambda x:1 if x=='True' else 0)\n",
    "winrate2['firstDragon']=winrate2['firstDragon'].apply(lambda x:1 if x=='True' else 0)\n",
    "winrate2['firstTower']=winrate2['firstTower'].apply(lambda x:1 if x=='True' else 0)"
   ]
  },
  {
   "cell_type": "code",
   "execution_count": 231,
   "id": "b52b35fc",
   "metadata": {},
   "outputs": [
    {
     "data": {
      "text/html": [
       "<div>\n",
       "<style scoped>\n",
       "    .dataframe tbody tr th:only-of-type {\n",
       "        vertical-align: middle;\n",
       "    }\n",
       "\n",
       "    .dataframe tbody tr th {\n",
       "        vertical-align: top;\n",
       "    }\n",
       "\n",
       "    .dataframe thead th {\n",
       "        text-align: right;\n",
       "    }\n",
       "</style>\n",
       "<table border=\"1\" class=\"dataframe\">\n",
       "  <thead>\n",
       "    <tr style=\"text-align: right;\">\n",
       "      <th></th>\n",
       "      <th>win</th>\n",
       "      <th>rate</th>\n",
       "    </tr>\n",
       "    <tr>\n",
       "      <th>firstChampion</th>\n",
       "      <th></th>\n",
       "      <th></th>\n",
       "    </tr>\n",
       "  </thead>\n",
       "  <tbody>\n",
       "    <tr>\n",
       "      <th>False</th>\n",
       "      <td>5315</td>\n",
       "      <td>39.77</td>\n",
       "    </tr>\n",
       "    <tr>\n",
       "      <th>True</th>\n",
       "      <td>8050</td>\n",
       "      <td>60.23</td>\n",
       "    </tr>\n",
       "  </tbody>\n",
       "</table>\n",
       "</div>"
      ],
      "text/plain": [
       "                win   rate\n",
       "firstChampion             \n",
       "False          5315  39.77\n",
       "True           8050  60.23"
      ]
     },
     "execution_count": 231,
     "metadata": {},
     "output_type": "execute_result"
    }
   ],
   "source": [
    "win_cnt=winrate[winrate['win']=='True']\n",
    "fc_cnt=win_cnt.groupby(['firstChampion'])[['win']].count()\n",
    "fc_cnt['rate']=round(fc_cnt.win/fc_cnt.sum().win*100,2)\n",
    "fc_cnt"
   ]
  },
  {
   "cell_type": "code",
   "execution_count": 232,
   "id": "cd9a2b1c",
   "metadata": {},
   "outputs": [
    {
     "data": {
      "image/png": "[encoded data removed]",
      "text/plain": [
       "<Figure size 640x480 with 1 Axes>"
      ]
     },
     "metadata": {},
     "output_type": "display_data"
    }
   ],
   "source": [
    "fc_rate=[]\n",
    "for i in range(len(fc_cnt)):\n",
    "    fc_rate.append(fc_cnt.iloc[i]['rate'])\n",
    "fc_win=[]\n",
    "for i in range(len(fc_cnt)):\n",
    "    if fc_cnt.index[i]=='True':\n",
    "        fc_win.append('성공')\n",
    "    else:\n",
    "        fc_win.append('실패')\n",
    "\n",
    "plt.figure()\n",
    "x = np.arange(2)\n",
    "plt.title('퍼스트 블러드 후 승률')\n",
    "plt.bar(x, fc_rate, color=['#e35f62','dodgerblue'])\n",
    "plt.xticks(x, fc_win)\n",
    "plt.show()"
   ]
  },
  {
   "cell_type": "code",
   "execution_count": 233,
   "id": "ac2ac6b7",
   "metadata": {},
   "outputs": [
    {
     "data": {
      "text/html": [
       "<div>\n",
       "<style scoped>\n",
       "    .dataframe tbody tr th:only-of-type {\n",
       "        vertical-align: middle;\n",
       "    }\n",
       "\n",
       "    .dataframe tbody tr th {\n",
       "        vertical-align: top;\n",
       "    }\n",
       "\n",
       "    .dataframe thead th {\n",
       "        text-align: right;\n",
       "    }\n",
       "</style>\n",
       "<table border=\"1\" class=\"dataframe\">\n",
       "  <thead>\n",
       "    <tr style=\"text-align: right;\">\n",
       "      <th></th>\n",
       "      <th>win</th>\n",
       "      <th>rate</th>\n",
       "    </tr>\n",
       "    <tr>\n",
       "      <th>firstDragon</th>\n",
       "      <th></th>\n",
       "      <th></th>\n",
       "    </tr>\n",
       "  </thead>\n",
       "  <tbody>\n",
       "    <tr>\n",
       "      <th>False</th>\n",
       "      <td>4625</td>\n",
       "      <td>34.61</td>\n",
       "    </tr>\n",
       "    <tr>\n",
       "      <th>True</th>\n",
       "      <td>8740</td>\n",
       "      <td>65.39</td>\n",
       "    </tr>\n",
       "  </tbody>\n",
       "</table>\n",
       "</div>"
      ],
      "text/plain": [
       "              win   rate\n",
       "firstDragon             \n",
       "False        4625  34.61\n",
       "True         8740  65.39"
      ]
     },
     "execution_count": 233,
     "metadata": {},
     "output_type": "execute_result"
    }
   ],
   "source": [
    "win_cnt=winrate[winrate['win']=='True']\n",
    "fd_cnt=win_cnt.groupby(['firstDragon'])[['win']].count()\n",
    "fd_cnt['rate']=round(fd_cnt.win/fd_cnt.sum().win*100,2)\n",
    "fd_cnt"
   ]
  },
  {
   "cell_type": "code",
   "execution_count": 234,
   "id": "2fc91a44",
   "metadata": {},
   "outputs": [
    {
     "data": {
      "image/png": "[encoded data removed]",
      "text/plain": [
       "<Figure size 640x480 with 1 Axes>"
      ]
     },
     "metadata": {},
     "output_type": "display_data"
    }
   ],
   "source": [
    "fd_rate=[]\n",
    "for i in range(len(fd_cnt)):\n",
    "    fd_rate.append(fd_cnt.iloc[i]['rate'])\n",
    "fd_win=[]\n",
    "for i in range(len(fd_cnt)):\n",
    "    if fd_cnt.index[i]=='True':\n",
    "        fd_win.append('성공')\n",
    "    else:\n",
    "        fd_win.append('실패')\n",
    "\n",
    "plt.figure()\n",
    "x = np.arange(2)\n",
    "plt.title('첫 드래곤 제거 후 승률')\n",
    "plt.bar(x, fd_rate, color=['#e35f62','dodgerblue'])\n",
    "plt.xticks(x, fd_win)\n",
    "plt.show()"
   ]
  },
  {
   "cell_type": "code",
   "execution_count": 235,
   "id": "5cea6d74",
   "metadata": {},
   "outputs": [
    {
     "data": {
      "text/html": [
       "<div>\n",
       "<style scoped>\n",
       "    .dataframe tbody tr th:only-of-type {\n",
       "        vertical-align: middle;\n",
       "    }\n",
       "\n",
       "    .dataframe tbody tr th {\n",
       "        vertical-align: top;\n",
       "    }\n",
       "\n",
       "    .dataframe thead th {\n",
       "        text-align: right;\n",
       "    }\n",
       "</style>\n",
       "<table border=\"1\" class=\"dataframe\">\n",
       "  <thead>\n",
       "    <tr style=\"text-align: right;\">\n",
       "      <th></th>\n",
       "      <th>win</th>\n",
       "      <th>rate</th>\n",
       "    </tr>\n",
       "    <tr>\n",
       "      <th>firstTower</th>\n",
       "      <th></th>\n",
       "      <th></th>\n",
       "    </tr>\n",
       "  </thead>\n",
       "  <tbody>\n",
       "    <tr>\n",
       "      <th>False</th>\n",
       "      <td>3430</td>\n",
       "      <td>25.66</td>\n",
       "    </tr>\n",
       "    <tr>\n",
       "      <th>True</th>\n",
       "      <td>9935</td>\n",
       "      <td>74.34</td>\n",
       "    </tr>\n",
       "  </tbody>\n",
       "</table>\n",
       "</div>"
      ],
      "text/plain": [
       "             win   rate\n",
       "firstTower             \n",
       "False       3430  25.66\n",
       "True        9935  74.34"
      ]
     },
     "execution_count": 235,
     "metadata": {},
     "output_type": "execute_result"
    }
   ],
   "source": [
    "win_cnt=winrate[winrate['win']=='True']\n",
    "ft_cnt=win_cnt.groupby(['firstTower'])[['win']].count()\n",
    "ft_cnt['rate']=round(ft_cnt.win/ft_cnt.sum().win*100,2)\n",
    "ft_cnt"
   ]
  },
  {
   "cell_type": "code",
   "execution_count": 236,
   "id": "fc754f9a",
   "metadata": {},
   "outputs": [
    {
     "data": {
      "image/png": "[encoded data removed]",
      "text/plain": [
       "<Figure size 640x480 with 1 Axes>"
      ]
     },
     "metadata": {},
     "output_type": "display_data"
    }
   ],
   "source": [
    "ft_rate=[]\n",
    "for i in range(len(ft_cnt)):\n",
    "    ft_rate.append(ft_cnt.iloc[i]['rate'])\n",
    "ft_win=[]\n",
    "for i in range(len(ft_cnt)):\n",
    "    if ft_cnt.index[i]=='True':\n",
    "        ft_win.append('성공')\n",
    "    else:\n",
    "        ft_win.append('실패')\n",
    "\n",
    "plt.figure()\n",
    "x = np.arange(2)\n",
    "plt.title('첫 포탑 제거 후 승률')\n",
    "plt.bar(x, ft_rate, color=['#e35f62','dodgerblue'])\n",
    "plt.xticks(x, ft_win)\n",
    "plt.show()"
   ]
  },
  {
   "cell_type": "code",
   "execution_count": 237,
   "id": "357e84a9",
   "metadata": {},
   "outputs": [
    {
     "data": {
      "text/html": [
       "<div>\n",
       "<style scoped>\n",
       "    .dataframe tbody tr th:only-of-type {\n",
       "        vertical-align: middle;\n",
       "    }\n",
       "\n",
       "    .dataframe tbody tr th {\n",
       "        vertical-align: top;\n",
       "    }\n",
       "\n",
       "    .dataframe thead th {\n",
       "        text-align: right;\n",
       "    }\n",
       "</style>\n",
       "<table border=\"1\" class=\"dataframe\">\n",
       "  <thead>\n",
       "    <tr style=\"text-align: right;\">\n",
       "      <th></th>\n",
       "      <th></th>\n",
       "      <th></th>\n",
       "      <th>win</th>\n",
       "      <th>rate</th>\n",
       "    </tr>\n",
       "    <tr>\n",
       "      <th>firstChampion</th>\n",
       "      <th>firstDragon</th>\n",
       "      <th>firstTower</th>\n",
       "      <th></th>\n",
       "      <th></th>\n",
       "    </tr>\n",
       "  </thead>\n",
       "  <tbody>\n",
       "    <tr>\n",
       "      <th rowspan=\"4\" valign=\"top\">False</th>\n",
       "      <th rowspan=\"2\" valign=\"top\">False</th>\n",
       "      <th>False</th>\n",
       "      <td>780</td>\n",
       "      <td>5.84</td>\n",
       "    </tr>\n",
       "    <tr>\n",
       "      <th>True</th>\n",
       "      <td>1280</td>\n",
       "      <td>9.58</td>\n",
       "    </tr>\n",
       "    <tr>\n",
       "      <th rowspan=\"2\" valign=\"top\">True</th>\n",
       "      <th>False</th>\n",
       "      <td>990</td>\n",
       "      <td>7.41</td>\n",
       "    </tr>\n",
       "    <tr>\n",
       "      <th>True</th>\n",
       "      <td>2265</td>\n",
       "      <td>16.95</td>\n",
       "    </tr>\n",
       "    <tr>\n",
       "      <th rowspan=\"4\" valign=\"top\">True</th>\n",
       "      <th rowspan=\"2\" valign=\"top\">False</th>\n",
       "      <th>False</th>\n",
       "      <td>680</td>\n",
       "      <td>5.09</td>\n",
       "    </tr>\n",
       "    <tr>\n",
       "      <th>True</th>\n",
       "      <td>1885</td>\n",
       "      <td>14.10</td>\n",
       "    </tr>\n",
       "    <tr>\n",
       "      <th rowspan=\"2\" valign=\"top\">True</th>\n",
       "      <th>False</th>\n",
       "      <td>980</td>\n",
       "      <td>7.33</td>\n",
       "    </tr>\n",
       "    <tr>\n",
       "      <th>True</th>\n",
       "      <td>4505</td>\n",
       "      <td>33.71</td>\n",
       "    </tr>\n",
       "  </tbody>\n",
       "</table>\n",
       "</div>"
      ],
      "text/plain": [
       "                                       win   rate\n",
       "firstChampion firstDragon firstTower             \n",
       "False         False       False        780   5.84\n",
       "                          True        1280   9.58\n",
       "              True        False        990   7.41\n",
       "                          True        2265  16.95\n",
       "True          False       False        680   5.09\n",
       "                          True        1885  14.10\n",
       "              True        False        980   7.33\n",
       "                          True        4505  33.71"
      ]
     },
     "execution_count": 237,
     "metadata": {},
     "output_type": "execute_result"
    }
   ],
   "source": [
    "tot_cnt = win_cnt.groupby(['firstChampion','firstDragon','firstTower'])[['win']].count()\n",
    "tot_cnt['rate']=round(tot_cnt.win/tot_cnt.sum().win*100,2)\n",
    "tot_cnt"
   ]
  },
  {
   "cell_type": "code",
   "execution_count": 238,
   "id": "15d9686f",
   "metadata": {},
   "outputs": [],
   "source": [
    "tot_cnt2 = tot_cnt.sort_values(by=['rate'], ascending=False)"
   ]
  },
  {
   "cell_type": "code",
   "execution_count": 239,
   "id": "26891d70",
   "metadata": {},
   "outputs": [
    {
     "data": {
      "text/plain": [
       "[33.71, 16.95, 14.1, 9.58, 7.41, 7.33, 5.84, 5.09]"
      ]
     },
     "execution_count": 239,
     "metadata": {},
     "output_type": "execute_result"
    }
   ],
   "source": [
    "rate_lst=[]\n",
    "for i in range(len(tot_cnt2)):\n",
    "    rate_lst.append(tot_cnt2.iloc[i]['rate'])\n",
    "rate_lst"
   ]
  },
  {
   "cell_type": "code",
   "execution_count": 240,
   "id": "72007a27",
   "metadata": {},
   "outputs": [
    {
     "data": {
      "text/plain": [
       "['퍼블&용&포탑', '용&포탑', '퍼블&포탑', '포탑', '용', '퍼블&용', '없음', '퍼블']"
      ]
     },
     "execution_count": 240,
     "metadata": {},
     "output_type": "execute_result"
    }
   ],
   "source": [
    "lst=[]\n",
    "for i in range(len(tot_cnt2)):\n",
    "    if tot_cnt2.index[i]==('False', 'False', 'False') :\n",
    "        lst.append('없음')\n",
    "    elif tot_cnt2.index[i]==('False', 'False', 'True') :\n",
    "        lst.append('포탑')\n",
    "    elif tot_cnt2.index[i]==('False', 'True', 'False') :\n",
    "        lst.append('용')\n",
    "    elif tot_cnt2.index[i]==('False', 'True', 'True') :\n",
    "        lst.append('용&포탑')\n",
    "    elif tot_cnt2.index[i]==('True', 'False', 'False') :\n",
    "        lst.append('퍼블')\n",
    "    elif tot_cnt2.index[i]==('True', 'False', 'True') :\n",
    "        lst.append('퍼블&포탑')\n",
    "    elif tot_cnt2.index[i]==('True', 'True', 'False') :\n",
    "        lst.append('퍼블&용')\n",
    "    else :\n",
    "        lst.append('퍼블&용&포탑')\n",
    "lst"
   ]
  },
  {
   "cell_type": "code",
   "execution_count": 257,
   "id": "eabd2fbc",
   "metadata": {},
   "outputs": [
    {
     "data": {
      "image/png": "[encoded data removed]",
      "text/plain": [
       "<Figure size 640x480 with 2 Axes>"
      ]
     },
     "metadata": {},
     "output_type": "display_data"
    }
   ],
   "source": [
    "plt.subplots_adjust(left=0.1, bottom=0.1,  right=1.5, top=1)\n",
    "\n",
    "wedgeprops={'width': 0.7, 'edgecolor': 'w', 'linewidth': 5}\n",
    "x = np.arange(len(tot_cnt2))\n",
    "colors = ['#ff9999', '#ffc000', '#8fd9b6', '#d395d0','gray', 'silver', 'lightgray', 'whitesmoke']\n",
    "\n",
    "plt.subplot(1, 2, 1)\n",
    "\n",
    "plt.pie(rate_lst, labels = lst, autopct='%1.1f%%',colors=colors, wedgeprops=wedgeprops)\n",
    "plt.grid(True)\n",
    "plt.title('전체 승리게임')\n",
    "\n",
    "plt.subplot(1, 2, 2)\n",
    "plt.bar(x, rate_lst,color=colors)\n",
    "plt.xticks(x, lst, rotation=45)\n",
    "\n",
    "plt.show()"
   ]
  },
  {
   "cell_type": "code",
   "execution_count": 242,
   "id": "72b7c9ee",
   "metadata": {},
   "outputs": [
    {
     "data": {
      "image/png": "[encoded data removed]",
      "text/plain": [
       "<Figure size 640x480 with 6 Axes>"
      ]
     },
     "metadata": {},
     "output_type": "display_data"
    }
   ],
   "source": [
    "plt.subplots_adjust(left=0.1, bottom=0.1,  right=1.2, top=1.2, wspace=0.7, hspace=0.1)\n",
    "color=['#D775E4','#5ABFD3']\n",
    "\n",
    "plt.subplot(2, 3, 1)                # nrows=2, ncols=1, index=1\n",
    "x = np.arange(2)\n",
    "plt.title('퍼스트 블러드 후 승률')\n",
    "plt.bar(x, fc_rate, color=color)\n",
    "plt.xticks(x, fc_win)\n",
    "\n",
    "plt.subplot(2, 3, 2)                # nrows=2, ncols=1, index=2\n",
    "plt.title('첫 드래곤 제거 후 승률')\n",
    "plt.bar(x, fd_rate, color=color)\n",
    "plt.xticks(x, fd_win)\n",
    "\n",
    "plt.subplot(2, 3, 3)                # nrows=2, ncols=1, index=2\n",
    "plt.title('첫 포탑 제거 후 승률')\n",
    "plt.bar(x, ft_rate, color=color)\n",
    "plt.xticks(x, ft_win)\n",
    "\n",
    "plt.subplot(2, 3, 4)                # nrows=2, ncols=1, index=1\n",
    "x = np.arange(2)\n",
    "plt.pie(fc_rate, labels=fc_win, autopct='%.1f%%',startangle=180, explode=[0,0.1],shadow=True,colors=color)\n",
    "\n",
    "plt.subplot(2, 3, 5)                # nrows=2, ncols=1, index=2\n",
    "plt.pie(fd_rate, labels=fd_win, autopct='%.1f%%',startangle=180, explode=[0,0.1],shadow=True,colors=color)\n",
    "\n",
    "plt.subplot(2, 3, 6)                # nrows=2, ncols=1, index=2\n",
    "plt.pie(ft_rate, labels=ft_win, autopct='%.1f%%',startangle=180, explode=[0,0.1],shadow=True,colors=color)\n",
    "\n",
    "plt.show()"
   ]
  },
  {
   "cell_type": "code",
   "execution_count": null,
   "id": "765cf471",
   "metadata": {},
   "outputs": [],
   "source": []
  },
  {
   "cell_type": "code",
   "execution_count": null,
   "id": "43b72b95",
   "metadata": {},
   "outputs": [],
   "source": []
  },
  {
   "cell_type": "code",
   "execution_count": null,
   "id": "a625dafe",
   "metadata": {},
   "outputs": [],
   "source": []
  },
  {
   "cell_type": "code",
   "execution_count": null,
   "id": "4e9f2754",
   "metadata": {},
   "outputs": [],
   "source": []
  },
  {
   "cell_type": "code",
   "execution_count": null,
   "id": "47b2eb7f",
   "metadata": {},
   "outputs": [],
   "source": []
  },
  {
   "cell_type": "code",
   "execution_count": null,
   "id": "70fdf6f2",
   "metadata": {},
   "outputs": [],
   "source": []
  }
 ],
 "metadata": {
  "kernelspec": {
   "display_name": "Python 3 (ipykernel)",
   "language": "python",
   "name": "python3"
  },
  "language_info": {
   "codemirror_mode": {
    "name": "ipython",
    "version": 3
   },
   "file_extension": ".py",
   "mimetype": "text/x-python",
   "name": "python",
   "nbconvert_exporter": "python",
   "pygments_lexer": "ipython3",
   "version": "3.9.13"
  }
 },
 "nbformat": 4,
 "nbformat_minor": 5
}

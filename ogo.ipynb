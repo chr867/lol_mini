{
 "cells": [
  {
   "cell_type": "markdown",
   "id": "37fe8156",
   "metadata": {},
   "source": [
    "# 미니프로젝트"
   ]
  },
  {
   "cell_type": "raw",
   "id": "73ceb24b",
   "metadata": {},
   "source": [
    "-APT를 통해서 라이엇데이터 수집하기(로우데이터 DF만들기)-티어는 자유\n",
    "-불러온 데이터를 전처리하기(중복제거, nar값 제거) matches,timeline합져서 최소컬럼 25개\n",
    "-위의 과정을 함수화해서 모듈만들기\n",
    "\n",
    "-전처리된 로우데이터를 오라클 or mysql에 저장하기 ->최소 5만개\n",
    "-팀과 함께 상의해서 흥미롭고 재밌을거 같은 주제 3가지 선정\n",
    "-지표분석을 통해 나온 df를 시각화 모듈을 사용해서 표현하세요(3개중 2개 필수)\n",
    "-전처리부터 시각화까지 캡쳐해서 폴더에 저장\n",
    "-개발보고서.ppt를 만들어서 간단하게 발표예정\n",
    "-모든 py파일, ipynb파일, 사진, 개발보고서, ppt 다 하나의 폴더로 압축\n",
    "-appdaa6@gmail.com\n",
    "-목요일 점심 전까지 오후에 발표"
   ]
  },
  {
   "cell_type": "raw",
   "id": "5703b12d",
   "metadata": {},
   "source": [
    "- 와드설치횟수 파괴횟수 승률\n",
    "- 프로필에 따른 승률\n",
    "- 퍼블 퍼드 포블에 따른 승률"
   ]
  },
  {
   "cell_type": "code",
   "execution_count": 4,
   "id": "13a519e7",
   "metadata": {},
   "outputs": [],
   "source": [
    "import requests\n",
    "from tqdm import tqdm\n",
    "import pandas as pd\n",
    "import numpy as np\n",
    "import time\n",
    "import my_utils_PJ as mu\n",
    "import math\n",
    "import random\n",
    "import imp\n",
    "import matplotlib.pyplot as plt\n",
    "import seaborn as sns\n",
    "import plotly\n",
    "import plotly.graph_objs as go\n",
    "import plotly.express as px\n",
    "imp.reload(mu)\n",
    "tqdm.pandas()"
   ]
  },
  {
   "cell_type": "code",
   "execution_count": 5,
   "id": "86a5103a",
   "metadata": {},
   "outputs": [],
   "source": [
    "# 폰트 조정\n",
    "from matplotlib import font_manager, rc\n",
    "font_path = \"C:/Windows/Fonts/gulim.ttc\"\n",
    "font = font_manager.FontProperties(fname=font_path).get_name()\n",
    "rc('font', family=font) # 윈도우"
   ]
  },
  {
   "cell_type": "markdown",
   "id": "087c442a",
   "metadata": {},
   "source": [
    "# 확률 구하기"
   ]
  },
  {
   "cell_type": "code",
   "execution_count": 6,
   "id": "d1e8d0e6",
   "metadata": {},
   "outputs": [],
   "source": [
    "sql_conn = mu.connect_mysql('icia')\n",
    "df = pd.DataFrame(mu.mysql_execute_dict('select * from lol_mini', sql_conn))\n",
    "sql_conn.close()"
   ]
  },
  {
   "cell_type": "code",
   "execution_count": 7,
   "id": "64aa569d",
   "metadata": {},
   "outputs": [],
   "source": [
    "winrate= df[['gameId','teamId','win','firstChampion','firstDragon','firstTower']]"
   ]
  },
  {
   "cell_type": "code",
   "execution_count": 8,
   "id": "ab91bb94",
   "metadata": {},
   "outputs": [
    {
     "data": {
      "text/plain": [
       "84.88"
      ]
     },
     "execution_count": 8,
     "metadata": {},
     "output_type": "execute_result"
    }
   ],
   "source": [
    "# 퍼블 퍼드 포블일 경우 승률\n",
    "fb_fd_ft=winrate[(winrate['firstChampion']=='True')&(winrate['firstDragon']=='True')&(winrate['firstTower']=='True')]\n",
    "len(fb_fd_ft)\n",
    "round(len(fb_fd_ft[fb_fd_ft['win']=='True'])/len(fb_fd_ft)*100,2)"
   ]
  },
  {
   "cell_type": "code",
   "execution_count": 9,
   "id": "460fc606",
   "metadata": {},
   "outputs": [
    {
     "data": {
      "text/plain": [
       "73.14"
      ]
     },
     "execution_count": 9,
     "metadata": {},
     "output_type": "execute_result"
    }
   ],
   "source": [
    "# 퍼블 퍼드일 경우 승률\n",
    "fb_fd=winrate[(winrate['firstChampion']=='True')&(winrate['firstDragon']=='True')]\n",
    "len(fb_fd)\n",
    "round(len(fb_fd[fb_fd['win']=='True'])/len(fb_fd)*100,2)"
   ]
  },
  {
   "cell_type": "code",
   "execution_count": 10,
   "id": "e6cf0c6a",
   "metadata": {},
   "outputs": [
    {
     "data": {
      "text/plain": [
       "76.21"
      ]
     },
     "execution_count": 10,
     "metadata": {},
     "output_type": "execute_result"
    }
   ],
   "source": [
    "# 퍼블 포블일 경우 승률\n",
    "fb_ft=winrate[(winrate['firstChampion']=='True')&(winrate['firstTower']=='True')]\n",
    "len(fb_ft)\n",
    "round(len(fb_ft[fb_ft['win']=='True'])/len(fb_ft)*100,2)"
   ]
  },
  {
   "cell_type": "code",
   "execution_count": 11,
   "id": "889fbbe1",
   "metadata": {},
   "outputs": [
    {
     "data": {
      "text/plain": [
       "82.4"
      ]
     },
     "execution_count": 11,
     "metadata": {},
     "output_type": "execute_result"
    }
   ],
   "source": [
    "# 퍼드 포블일 경우 승률\n",
    "fd_ft=winrate[(winrate['firstDragon']=='True')&(winrate['firstTower']=='True')]\n",
    "len(fd_ft)\n",
    "round(len(fd_ft[fd_ft['win']=='True'])/len(fd_ft)*100,2)"
   ]
  },
  {
   "cell_type": "code",
   "execution_count": 12,
   "id": "e654d8e2",
   "metadata": {},
   "outputs": [
    {
     "data": {
      "text/plain": [
       "59.95"
      ]
     },
     "execution_count": 12,
     "metadata": {},
     "output_type": "execute_result"
    }
   ],
   "source": [
    "# 퍼블 승률\n",
    "fb=winrate[winrate['firstChampion']=='True']\n",
    "round(len(fb[fb['win']=='True'])/len(fb)*100,2)"
   ]
  },
  {
   "cell_type": "code",
   "execution_count": 37,
   "id": "8bab67a9",
   "metadata": {},
   "outputs": [
    {
     "data": {
      "text/plain": [
       "68.7"
      ]
     },
     "execution_count": 37,
     "metadata": {},
     "output_type": "execute_result"
    }
   ],
   "source": [
    "# 퍼드 승률\n",
    "fd=winrate[winrate['firstDragon']=='True']\n",
    "round(len(fd[fd['win']=='True'])/len(fd)*100,2)"
   ]
  },
  {
   "cell_type": "code",
   "execution_count": 14,
   "id": "ff082f85",
   "metadata": {},
   "outputs": [
    {
     "data": {
      "text/plain": [
       "72.8"
      ]
     },
     "execution_count": 14,
     "metadata": {},
     "output_type": "execute_result"
    }
   ],
   "source": [
    "# 포블 승률\n",
    "ft=winrate[winrate['firstTower']=='True']\n",
    "round(len(ft[ft['win']=='True'])/len(ft)*100,2)"
   ]
  },
  {
   "cell_type": "code",
   "execution_count": 207,
   "id": "56474085",
   "metadata": {},
   "outputs": [],
   "source": [
    "# win 퍼블 퍼드 포블 bool값을 int로 변경\n",
    "winrate2 = winrate.copy()\n",
    "winrate2['win']=winrate2['win'].apply(lambda x:1 if x=='True' else 0)\n",
    "winrate2['firstChampion']=winrate2['firstChampion'].apply(lambda x:1 if x=='True' else 0)\n",
    "winrate2['firstDragon']=winrate2['firstDragon'].apply(lambda x:1 if x=='True' else 0)\n",
    "winrate2['firstTower']=winrate2['firstTower'].apply(lambda x:1 if x=='True' else 0)"
   ]
  },
  {
   "cell_type": "code",
   "execution_count": 35,
   "id": "b52b35fc",
   "metadata": {},
   "outputs": [
    {
     "data": {
      "text/html": [
       "<div>\n",
       "<style scoped>\n",
       "    .dataframe tbody tr th:only-of-type {\n",
       "        vertical-align: middle;\n",
       "    }\n",
       "\n",
       "    .dataframe tbody tr th {\n",
       "        vertical-align: top;\n",
       "    }\n",
       "\n",
       "    .dataframe thead th {\n",
       "        text-align: right;\n",
       "    }\n",
       "</style>\n",
       "<table border=\"1\" class=\"dataframe\">\n",
       "  <thead>\n",
       "    <tr style=\"text-align: right;\">\n",
       "      <th></th>\n",
       "      <th>win</th>\n",
       "      <th>rate</th>\n",
       "    </tr>\n",
       "    <tr>\n",
       "      <th>firstChampion</th>\n",
       "      <th></th>\n",
       "      <th></th>\n",
       "    </tr>\n",
       "  </thead>\n",
       "  <tbody>\n",
       "    <tr>\n",
       "      <th>False</th>\n",
       "      <td>795</td>\n",
       "      <td>40.05</td>\n",
       "    </tr>\n",
       "    <tr>\n",
       "      <th>True</th>\n",
       "      <td>1190</td>\n",
       "      <td>59.95</td>\n",
       "    </tr>\n",
       "  </tbody>\n",
       "</table>\n",
       "</div>"
      ],
      "text/plain": [
       "                win   rate\n",
       "firstChampion             \n",
       "False           795  40.05\n",
       "True           1190  59.95"
      ]
     },
     "execution_count": 35,
     "metadata": {},
     "output_type": "execute_result"
    }
   ],
   "source": [
    "win_cnt=winrate[winrate['win']=='True']\n",
    "fc_cnt=win_cnt.groupby(['firstChampion'])[['win']].count()\n",
    "fc_cnt['rate']=round(fc_cnt.win/fc_cnt.sum().win*100,2)\n",
    "fc_cnt"
   ]
  },
  {
   "cell_type": "code",
   "execution_count": 36,
   "id": "ac2ac6b7",
   "metadata": {},
   "outputs": [
    {
     "data": {
      "text/html": [
       "<div>\n",
       "<style scoped>\n",
       "    .dataframe tbody tr th:only-of-type {\n",
       "        vertical-align: middle;\n",
       "    }\n",
       "\n",
       "    .dataframe tbody tr th {\n",
       "        vertical-align: top;\n",
       "    }\n",
       "\n",
       "    .dataframe thead th {\n",
       "        text-align: right;\n",
       "    }\n",
       "</style>\n",
       "<table border=\"1\" class=\"dataframe\">\n",
       "  <thead>\n",
       "    <tr style=\"text-align: right;\">\n",
       "      <th></th>\n",
       "      <th>win</th>\n",
       "      <th>rate</th>\n",
       "    </tr>\n",
       "    <tr>\n",
       "      <th>firstDragon</th>\n",
       "      <th></th>\n",
       "      <th></th>\n",
       "    </tr>\n",
       "  </thead>\n",
       "  <tbody>\n",
       "    <tr>\n",
       "      <th>False</th>\n",
       "      <td>635</td>\n",
       "      <td>31.99</td>\n",
       "    </tr>\n",
       "    <tr>\n",
       "      <th>True</th>\n",
       "      <td>1350</td>\n",
       "      <td>68.01</td>\n",
       "    </tr>\n",
       "  </tbody>\n",
       "</table>\n",
       "</div>"
      ],
      "text/plain": [
       "              win   rate\n",
       "firstDragon             \n",
       "False         635  31.99\n",
       "True         1350  68.01"
      ]
     },
     "execution_count": 36,
     "metadata": {},
     "output_type": "execute_result"
    }
   ],
   "source": [
    "win_cnt=winrate[winrate['win']=='True']\n",
    "fd_cnt=win_cnt.groupby(['firstDragon'])[['win']].count()\n",
    "fd_cnt['rate']=round(fd_cnt.win/fd_cnt.sum().win*100,2)\n",
    "fd_cnt"
   ]
  },
  {
   "cell_type": "code",
   "execution_count": 38,
   "id": "5cea6d74",
   "metadata": {},
   "outputs": [
    {
     "data": {
      "text/html": [
       "<div>\n",
       "<style scoped>\n",
       "    .dataframe tbody tr th:only-of-type {\n",
       "        vertical-align: middle;\n",
       "    }\n",
       "\n",
       "    .dataframe tbody tr th {\n",
       "        vertical-align: top;\n",
       "    }\n",
       "\n",
       "    .dataframe thead th {\n",
       "        text-align: right;\n",
       "    }\n",
       "</style>\n",
       "<table border=\"1\" class=\"dataframe\">\n",
       "  <thead>\n",
       "    <tr style=\"text-align: right;\">\n",
       "      <th></th>\n",
       "      <th>win</th>\n",
       "      <th>rate</th>\n",
       "    </tr>\n",
       "    <tr>\n",
       "      <th>firstTower</th>\n",
       "      <th></th>\n",
       "      <th></th>\n",
       "    </tr>\n",
       "  </thead>\n",
       "  <tbody>\n",
       "    <tr>\n",
       "      <th>False</th>\n",
       "      <td>540</td>\n",
       "      <td>27.2</td>\n",
       "    </tr>\n",
       "    <tr>\n",
       "      <th>True</th>\n",
       "      <td>1445</td>\n",
       "      <td>72.8</td>\n",
       "    </tr>\n",
       "  </tbody>\n",
       "</table>\n",
       "</div>"
      ],
      "text/plain": [
       "             win  rate\n",
       "firstTower            \n",
       "False        540  27.2\n",
       "True        1445  72.8"
      ]
     },
     "execution_count": 38,
     "metadata": {},
     "output_type": "execute_result"
    }
   ],
   "source": [
    "win_cnt=winrate[winrate['win']=='True']\n",
    "ft_cnt=win_cnt.groupby(['firstTower'])[['win']].count()\n",
    "ft_cnt['rate']=round(ft_cnt.win/ft_cnt.sum().win*100,2)\n",
    "ft_cnt"
   ]
  },
  {
   "cell_type": "code",
   "execution_count": 42,
   "id": "357e84a9",
   "metadata": {},
   "outputs": [
    {
     "data": {
      "text/html": [
       "<div>\n",
       "<style scoped>\n",
       "    .dataframe tbody tr th:only-of-type {\n",
       "        vertical-align: middle;\n",
       "    }\n",
       "\n",
       "    .dataframe tbody tr th {\n",
       "        vertical-align: top;\n",
       "    }\n",
       "\n",
       "    .dataframe thead th {\n",
       "        text-align: right;\n",
       "    }\n",
       "</style>\n",
       "<table border=\"1\" class=\"dataframe\">\n",
       "  <thead>\n",
       "    <tr style=\"text-align: right;\">\n",
       "      <th></th>\n",
       "      <th></th>\n",
       "      <th></th>\n",
       "      <th>win</th>\n",
       "      <th>rate</th>\n",
       "    </tr>\n",
       "    <tr>\n",
       "      <th>firstChampion</th>\n",
       "      <th>firstDragon</th>\n",
       "      <th>firstTower</th>\n",
       "      <th></th>\n",
       "      <th></th>\n",
       "    </tr>\n",
       "  </thead>\n",
       "  <tbody>\n",
       "    <tr>\n",
       "      <th rowspan=\"4\" valign=\"top\">False</th>\n",
       "      <th rowspan=\"2\" valign=\"top\">False</th>\n",
       "      <th>False</th>\n",
       "      <td>130</td>\n",
       "      <td>6.55</td>\n",
       "    </tr>\n",
       "    <tr>\n",
       "      <th>True</th>\n",
       "      <td>200</td>\n",
       "      <td>10.08</td>\n",
       "    </tr>\n",
       "    <tr>\n",
       "      <th rowspan=\"2\" valign=\"top\">True</th>\n",
       "      <th>False</th>\n",
       "      <td>165</td>\n",
       "      <td>8.31</td>\n",
       "    </tr>\n",
       "    <tr>\n",
       "      <th>True</th>\n",
       "      <td>300</td>\n",
       "      <td>15.11</td>\n",
       "    </tr>\n",
       "    <tr>\n",
       "      <th rowspan=\"4\" valign=\"top\">True</th>\n",
       "      <th rowspan=\"2\" valign=\"top\">False</th>\n",
       "      <th>False</th>\n",
       "      <td>90</td>\n",
       "      <td>4.53</td>\n",
       "    </tr>\n",
       "    <tr>\n",
       "      <th>True</th>\n",
       "      <td>215</td>\n",
       "      <td>10.83</td>\n",
       "    </tr>\n",
       "    <tr>\n",
       "      <th rowspan=\"2\" valign=\"top\">True</th>\n",
       "      <th>False</th>\n",
       "      <td>155</td>\n",
       "      <td>7.81</td>\n",
       "    </tr>\n",
       "    <tr>\n",
       "      <th>True</th>\n",
       "      <td>730</td>\n",
       "      <td>36.78</td>\n",
       "    </tr>\n",
       "  </tbody>\n",
       "</table>\n",
       "</div>"
      ],
      "text/plain": [
       "                                      win   rate\n",
       "firstChampion firstDragon firstTower            \n",
       "False         False       False       130   6.55\n",
       "                          True        200  10.08\n",
       "              True        False       165   8.31\n",
       "                          True        300  15.11\n",
       "True          False       False        90   4.53\n",
       "                          True        215  10.83\n",
       "              True        False       155   7.81\n",
       "                          True        730  36.78"
      ]
     },
     "execution_count": 42,
     "metadata": {},
     "output_type": "execute_result"
    }
   ],
   "source": [
    "tot_cnt = win_cnt.groupby(['firstChampion','firstDragon','firstTower'])[['win']].count()\n",
    "tot_cnt['rate']=round(tot_cnt.win/tot_cnt.sum().win*100,2)\n",
    "tot_cnt"
   ]
  },
  {
   "cell_type": "code",
   "execution_count": 43,
   "id": "15d9686f",
   "metadata": {},
   "outputs": [
    {
     "data": {
      "text/html": [
       "<div>\n",
       "<style scoped>\n",
       "    .dataframe tbody tr th:only-of-type {\n",
       "        vertical-align: middle;\n",
       "    }\n",
       "\n",
       "    .dataframe tbody tr th {\n",
       "        vertical-align: top;\n",
       "    }\n",
       "\n",
       "    .dataframe thead th {\n",
       "        text-align: right;\n",
       "    }\n",
       "</style>\n",
       "<table border=\"1\" class=\"dataframe\">\n",
       "  <thead>\n",
       "    <tr style=\"text-align: right;\">\n",
       "      <th></th>\n",
       "      <th></th>\n",
       "      <th></th>\n",
       "      <th>win</th>\n",
       "      <th>rate</th>\n",
       "    </tr>\n",
       "    <tr>\n",
       "      <th>firstChampion</th>\n",
       "      <th>firstDragon</th>\n",
       "      <th>firstTower</th>\n",
       "      <th></th>\n",
       "      <th></th>\n",
       "    </tr>\n",
       "  </thead>\n",
       "  <tbody>\n",
       "    <tr>\n",
       "      <th>True</th>\n",
       "      <th>True</th>\n",
       "      <th>True</th>\n",
       "      <td>730</td>\n",
       "      <td>36.78</td>\n",
       "    </tr>\n",
       "    <tr>\n",
       "      <th>False</th>\n",
       "      <th>True</th>\n",
       "      <th>True</th>\n",
       "      <td>300</td>\n",
       "      <td>15.11</td>\n",
       "    </tr>\n",
       "    <tr>\n",
       "      <th>True</th>\n",
       "      <th>False</th>\n",
       "      <th>True</th>\n",
       "      <td>215</td>\n",
       "      <td>10.83</td>\n",
       "    </tr>\n",
       "    <tr>\n",
       "      <th rowspan=\"2\" valign=\"top\">False</th>\n",
       "      <th>False</th>\n",
       "      <th>True</th>\n",
       "      <td>200</td>\n",
       "      <td>10.08</td>\n",
       "    </tr>\n",
       "    <tr>\n",
       "      <th>True</th>\n",
       "      <th>False</th>\n",
       "      <td>165</td>\n",
       "      <td>8.31</td>\n",
       "    </tr>\n",
       "    <tr>\n",
       "      <th>True</th>\n",
       "      <th>True</th>\n",
       "      <th>False</th>\n",
       "      <td>155</td>\n",
       "      <td>7.81</td>\n",
       "    </tr>\n",
       "    <tr>\n",
       "      <th>False</th>\n",
       "      <th>False</th>\n",
       "      <th>False</th>\n",
       "      <td>130</td>\n",
       "      <td>6.55</td>\n",
       "    </tr>\n",
       "    <tr>\n",
       "      <th>True</th>\n",
       "      <th>False</th>\n",
       "      <th>False</th>\n",
       "      <td>90</td>\n",
       "      <td>4.53</td>\n",
       "    </tr>\n",
       "  </tbody>\n",
       "</table>\n",
       "</div>"
      ],
      "text/plain": [
       "                                      win   rate\n",
       "firstChampion firstDragon firstTower            \n",
       "True          True        True        730  36.78\n",
       "False         True        True        300  15.11\n",
       "True          False       True        215  10.83\n",
       "False         False       True        200  10.08\n",
       "              True        False       165   8.31\n",
       "True          True        False       155   7.81\n",
       "False         False       False       130   6.55\n",
       "True          False       False        90   4.53"
      ]
     },
     "execution_count": 43,
     "metadata": {},
     "output_type": "execute_result"
    }
   ],
   "source": [
    "tot_cnt.sort_values(by=['rate'], ascending=False)"
   ]
  },
  {
   "cell_type": "code",
   "execution_count": 82,
   "id": "e64fd55c",
   "metadata": {},
   "outputs": [
    {
     "data": {
      "image/png": "[encoded data removed]",
      "text/plain": [
       "<Figure size 432x288 with 1 Axes>"
      ]
     },
     "metadata": {
      "needs_background": "light"
     },
     "output_type": "display_data"
    }
   ],
   "source": [
    "lst=[]\n",
    "for i in range(8):\n",
    "    lst.append(tot_cnt.iloc[i]['rate'])\n",
    "plt.hist(lst,label='bins=10')\n",
    "\n",
    "plt.show()"
   ]
  },
  {
   "cell_type": "code",
   "execution_count": 74,
   "id": "03be3efa",
   "metadata": {},
   "outputs": [
    {
     "data": {
      "text/plain": [
       "<AxesSubplot:title={'center':'퍼스트 블러드 후 승률'}, xlabel='firstChampion', ylabel='count'>"
      ]
     },
     "execution_count": 74,
     "metadata": {},
     "output_type": "execute_result"
    },
    {
     "data": {
      "image/png": "[encoded data removed]",
      "text/plain": [
       "<Figure size 432x288 with 1 Axes>"
      ]
     },
     "metadata": {
      "needs_background": "light"
     },
     "output_type": "display_data"
    }
   ],
   "source": [
    "plt.figure()\n",
    "plt.title('퍼스트 블러드 후 승률')\n",
    "sns.countplot(x='firstChampion',data=win_cnt,order=['False','True'])"
   ]
  },
  {
   "cell_type": "code",
   "execution_count": 75,
   "id": "72b7c9ee",
   "metadata": {},
   "outputs": [
    {
     "data": {
      "text/plain": [
       "<AxesSubplot:title={'center':'첫 드래곤 제거 후 승률'}, xlabel='firstDragon', ylabel='count'>"
      ]
     },
     "execution_count": 75,
     "metadata": {},
     "output_type": "execute_result"
    },
    {
     "data": {
      "image/png": "[encoded data removed]",
      "text/plain": [
       "<Figure size 432x288 with 1 Axes>"
      ]
     },
     "metadata": {
      "needs_background": "light"
     },
     "output_type": "display_data"
    }
   ],
   "source": [
    "plt.figure()\n",
    "plt.title('첫 드래곤 제거 후 승률')\n",
    "sns.countplot(x='firstDragon',data=win_cnt,order=['False','True'])"
   ]
  },
  {
   "cell_type": "code",
   "execution_count": 64,
   "id": "60682973",
   "metadata": {},
   "outputs": [
    {
     "data": {
      "text/plain": [
       "<AxesSubplot:title={'center':'첫 포탑 파괴후 승률'}, xlabel='firstDragon', ylabel='count'>"
      ]
     },
     "execution_count": 64,
     "metadata": {},
     "output_type": "execute_result"
    },
    {
     "data": {
      "image/png": "[encoded data removed]",
      "text/plain": [
       "<Figure size 432x288 with 1 Axes>"
      ]
     },
     "metadata": {
      "needs_background": "light"
     },
     "output_type": "display_data"
    }
   ],
   "source": [
    "plt.figure()\n",
    "plt.title('첫 포탑 파괴 후 승률')\n",
    "sns.countplot(x='firstTower',data=win_cnt,order=['False','True'])"
   ]
  },
  {
   "cell_type": "code",
   "execution_count": 70,
   "id": "d0d94f48",
   "metadata": {},
   "outputs": [
    {
     "data": {
      "text/html": [
       "<div>\n",
       "<style scoped>\n",
       "    .dataframe tbody tr th:only-of-type {\n",
       "        vertical-align: middle;\n",
       "    }\n",
       "\n",
       "    .dataframe tbody tr th {\n",
       "        vertical-align: top;\n",
       "    }\n",
       "\n",
       "    .dataframe thead th {\n",
       "        text-align: right;\n",
       "    }\n",
       "</style>\n",
       "<table border=\"1\" class=\"dataframe\">\n",
       "  <thead>\n",
       "    <tr style=\"text-align: right;\">\n",
       "      <th></th>\n",
       "      <th>gameId</th>\n",
       "      <th>gameDuration</th>\n",
       "      <th>gameVersion</th>\n",
       "      <th>summonerName</th>\n",
       "      <th>summonerLevel</th>\n",
       "      <th>participantId</th>\n",
       "      <th>championName</th>\n",
       "      <th>champExperience</th>\n",
       "      <th>teamPosition</th>\n",
       "      <th>teamId</th>\n",
       "      <th>...</th>\n",
       "      <th>g_16</th>\n",
       "      <th>g_17</th>\n",
       "      <th>g_18</th>\n",
       "      <th>g_19</th>\n",
       "      <th>g_20</th>\n",
       "      <th>g_21</th>\n",
       "      <th>g_22</th>\n",
       "      <th>g_23</th>\n",
       "      <th>g_24</th>\n",
       "      <th>g_25</th>\n",
       "    </tr>\n",
       "  </thead>\n",
       "  <tbody>\n",
       "    <tr>\n",
       "      <th>0</th>\n",
       "      <td>KR_6391207496</td>\n",
       "      <td>1342</td>\n",
       "      <td>13.4.494.1549</td>\n",
       "      <td>O7 top</td>\n",
       "      <td>105</td>\n",
       "      <td>1</td>\n",
       "      <td>Jayce</td>\n",
       "      <td>12018</td>\n",
       "      <td>TOP</td>\n",
       "      <td>100</td>\n",
       "      <td>...</td>\n",
       "      <td>5982</td>\n",
       "      <td>6827</td>\n",
       "      <td>7429</td>\n",
       "      <td>7989</td>\n",
       "      <td>8285</td>\n",
       "      <td>9223</td>\n",
       "      <td>9981</td>\n",
       "      <td>10185</td>\n",
       "      <td>0</td>\n",
       "      <td>0</td>\n",
       "    </tr>\n",
       "    <tr>\n",
       "      <th>1</th>\n",
       "      <td>KR_6391207496</td>\n",
       "      <td>1342</td>\n",
       "      <td>13.4.494.1549</td>\n",
       "      <td>leidianyayi</td>\n",
       "      <td>222</td>\n",
       "      <td>2</td>\n",
       "      <td>JarvanIV</td>\n",
       "      <td>8725</td>\n",
       "      <td>JUNGLE</td>\n",
       "      <td>100</td>\n",
       "      <td>...</td>\n",
       "      <td>6012</td>\n",
       "      <td>6184</td>\n",
       "      <td>6576</td>\n",
       "      <td>6779</td>\n",
       "      <td>7470</td>\n",
       "      <td>8027</td>\n",
       "      <td>8366</td>\n",
       "      <td>8848</td>\n",
       "      <td>0</td>\n",
       "      <td>0</td>\n",
       "    </tr>\n",
       "    <tr>\n",
       "      <th>2</th>\n",
       "      <td>KR_6391207496</td>\n",
       "      <td>1342</td>\n",
       "      <td>13.4.494.1549</td>\n",
       "      <td>Fzzovo</td>\n",
       "      <td>50</td>\n",
       "      <td>3</td>\n",
       "      <td>Viktor</td>\n",
       "      <td>10178</td>\n",
       "      <td>MIDDLE</td>\n",
       "      <td>100</td>\n",
       "      <td>...</td>\n",
       "      <td>6725</td>\n",
       "      <td>6935</td>\n",
       "      <td>7875</td>\n",
       "      <td>7997</td>\n",
       "      <td>9032</td>\n",
       "      <td>9205</td>\n",
       "      <td>9497</td>\n",
       "      <td>9869</td>\n",
       "      <td>0</td>\n",
       "      <td>0</td>\n",
       "    </tr>\n",
       "    <tr>\n",
       "      <th>3</th>\n",
       "      <td>KR_6391207496</td>\n",
       "      <td>1342</td>\n",
       "      <td>13.4.494.1549</td>\n",
       "      <td>결 혼</td>\n",
       "      <td>408</td>\n",
       "      <td>4</td>\n",
       "      <td>Varus</td>\n",
       "      <td>10953</td>\n",
       "      <td>BOTTOM</td>\n",
       "      <td>100</td>\n",
       "      <td>...</td>\n",
       "      <td>6904</td>\n",
       "      <td>7521</td>\n",
       "      <td>8185</td>\n",
       "      <td>8818</td>\n",
       "      <td>9279</td>\n",
       "      <td>9547</td>\n",
       "      <td>9855</td>\n",
       "      <td>10169</td>\n",
       "      <td>0</td>\n",
       "      <td>0</td>\n",
       "    </tr>\n",
       "    <tr>\n",
       "      <th>4</th>\n",
       "      <td>KR_6391207496</td>\n",
       "      <td>1342</td>\n",
       "      <td>13.4.494.1549</td>\n",
       "      <td>xingyunxiaojiang</td>\n",
       "      <td>213</td>\n",
       "      <td>5</td>\n",
       "      <td>Blitzcrank</td>\n",
       "      <td>7222</td>\n",
       "      <td>UTILITY</td>\n",
       "      <td>100</td>\n",
       "      <td>...</td>\n",
       "      <td>5500</td>\n",
       "      <td>5802</td>\n",
       "      <td>6082</td>\n",
       "      <td>6268</td>\n",
       "      <td>6619</td>\n",
       "      <td>6905</td>\n",
       "      <td>7131</td>\n",
       "      <td>7210</td>\n",
       "      <td>0</td>\n",
       "      <td>0</td>\n",
       "    </tr>\n",
       "    <tr>\n",
       "      <th>...</th>\n",
       "      <td>...</td>\n",
       "      <td>...</td>\n",
       "      <td>...</td>\n",
       "      <td>...</td>\n",
       "      <td>...</td>\n",
       "      <td>...</td>\n",
       "      <td>...</td>\n",
       "      <td>...</td>\n",
       "      <td>...</td>\n",
       "      <td>...</td>\n",
       "      <td>...</td>\n",
       "      <td>...</td>\n",
       "      <td>...</td>\n",
       "      <td>...</td>\n",
       "      <td>...</td>\n",
       "      <td>...</td>\n",
       "      <td>...</td>\n",
       "      <td>...</td>\n",
       "      <td>...</td>\n",
       "      <td>...</td>\n",
       "      <td>...</td>\n",
       "    </tr>\n",
       "    <tr>\n",
       "      <th>3965</th>\n",
       "      <td>KR_6413509075</td>\n",
       "      <td>1316</td>\n",
       "      <td>13.5.495.8836</td>\n",
       "      <td>어리고싶다</td>\n",
       "      <td>742</td>\n",
       "      <td>6</td>\n",
       "      <td>Jax</td>\n",
       "      <td>12246</td>\n",
       "      <td>TOP</td>\n",
       "      <td>200</td>\n",
       "      <td>...</td>\n",
       "      <td>6594</td>\n",
       "      <td>7751</td>\n",
       "      <td>8433</td>\n",
       "      <td>8705</td>\n",
       "      <td>9275</td>\n",
       "      <td>9907</td>\n",
       "      <td>10685</td>\n",
       "      <td>0</td>\n",
       "      <td>0</td>\n",
       "      <td>0</td>\n",
       "    </tr>\n",
       "    <tr>\n",
       "      <th>3966</th>\n",
       "      <td>KR_6413509075</td>\n",
       "      <td>1316</td>\n",
       "      <td>13.5.495.8836</td>\n",
       "      <td>Epilogue for you</td>\n",
       "      <td>468</td>\n",
       "      <td>7</td>\n",
       "      <td>RekSai</td>\n",
       "      <td>8362</td>\n",
       "      <td>JUNGLE</td>\n",
       "      <td>200</td>\n",
       "      <td>...</td>\n",
       "      <td>6039</td>\n",
       "      <td>6559</td>\n",
       "      <td>6881</td>\n",
       "      <td>7248</td>\n",
       "      <td>7669</td>\n",
       "      <td>8116</td>\n",
       "      <td>8448</td>\n",
       "      <td>0</td>\n",
       "      <td>0</td>\n",
       "      <td>0</td>\n",
       "    </tr>\n",
       "    <tr>\n",
       "      <th>3967</th>\n",
       "      <td>KR_6413509075</td>\n",
       "      <td>1316</td>\n",
       "      <td>13.5.495.8836</td>\n",
       "      <td>HLE Loki 19</td>\n",
       "      <td>661</td>\n",
       "      <td>8</td>\n",
       "      <td>Zoe</td>\n",
       "      <td>9800</td>\n",
       "      <td>MIDDLE</td>\n",
       "      <td>200</td>\n",
       "      <td>...</td>\n",
       "      <td>7022</td>\n",
       "      <td>7236</td>\n",
       "      <td>7505</td>\n",
       "      <td>7909</td>\n",
       "      <td>8150</td>\n",
       "      <td>8853</td>\n",
       "      <td>9135</td>\n",
       "      <td>0</td>\n",
       "      <td>0</td>\n",
       "      <td>0</td>\n",
       "    </tr>\n",
       "    <tr>\n",
       "      <th>3968</th>\n",
       "      <td>KR_6413509075</td>\n",
       "      <td>1316</td>\n",
       "      <td>13.5.495.8836</td>\n",
       "      <td>낭만닥터 이준민</td>\n",
       "      <td>540</td>\n",
       "      <td>9</td>\n",
       "      <td>Zeri</td>\n",
       "      <td>10774</td>\n",
       "      <td>BOTTOM</td>\n",
       "      <td>200</td>\n",
       "      <td>...</td>\n",
       "      <td>7873</td>\n",
       "      <td>8269</td>\n",
       "      <td>8820</td>\n",
       "      <td>9373</td>\n",
       "      <td>9831</td>\n",
       "      <td>10432</td>\n",
       "      <td>11116</td>\n",
       "      <td>0</td>\n",
       "      <td>0</td>\n",
       "      <td>0</td>\n",
       "    </tr>\n",
       "    <tr>\n",
       "      <th>3969</th>\n",
       "      <td>KR_6413509075</td>\n",
       "      <td>1316</td>\n",
       "      <td>13.5.495.8836</td>\n",
       "      <td>H4rp</td>\n",
       "      <td>251</td>\n",
       "      <td>10</td>\n",
       "      <td>Lulu</td>\n",
       "      <td>5663</td>\n",
       "      <td>UTILITY</td>\n",
       "      <td>200</td>\n",
       "      <td>...</td>\n",
       "      <td>4818</td>\n",
       "      <td>5238</td>\n",
       "      <td>5534</td>\n",
       "      <td>5842</td>\n",
       "      <td>6068</td>\n",
       "      <td>6383</td>\n",
       "      <td>6552</td>\n",
       "      <td>0</td>\n",
       "      <td>0</td>\n",
       "      <td>0</td>\n",
       "    </tr>\n",
       "  </tbody>\n",
       "</table>\n",
       "<p>1985 rows × 43 columns</p>\n",
       "</div>"
      ],
      "text/plain": [
       "             gameId  gameDuration    gameVersion      summonerName  \\\n",
       "0     KR_6391207496          1342  13.4.494.1549            O7 top   \n",
       "1     KR_6391207496          1342  13.4.494.1549       leidianyayi   \n",
       "2     KR_6391207496          1342  13.4.494.1549            Fzzovo   \n",
       "3     KR_6391207496          1342  13.4.494.1549               결 혼   \n",
       "4     KR_6391207496          1342  13.4.494.1549  xingyunxiaojiang   \n",
       "...             ...           ...            ...               ...   \n",
       "3965  KR_6413509075          1316  13.5.495.8836             어리고싶다   \n",
       "3966  KR_6413509075          1316  13.5.495.8836  Epilogue for you   \n",
       "3967  KR_6413509075          1316  13.5.495.8836       HLE Loki 19   \n",
       "3968  KR_6413509075          1316  13.5.495.8836          낭만닥터 이준민   \n",
       "3969  KR_6413509075          1316  13.5.495.8836              H4rp   \n",
       "\n",
       "      summonerLevel  participantId championName  champExperience teamPosition  \\\n",
       "0               105              1        Jayce            12018          TOP   \n",
       "1               222              2     JarvanIV             8725       JUNGLE   \n",
       "2                50              3       Viktor            10178       MIDDLE   \n",
       "3               408              4        Varus            10953       BOTTOM   \n",
       "4               213              5   Blitzcrank             7222      UTILITY   \n",
       "...             ...            ...          ...              ...          ...   \n",
       "3965            742              6          Jax            12246          TOP   \n",
       "3966            468              7       RekSai             8362       JUNGLE   \n",
       "3967            661              8          Zoe             9800       MIDDLE   \n",
       "3968            540              9         Zeri            10774       BOTTOM   \n",
       "3969            251             10         Lulu             5663      UTILITY   \n",
       "\n",
       "      teamId  ...  g_16  g_17  g_18  g_19  g_20   g_21   g_22   g_23  g_24  \\\n",
       "0        100  ...  5982  6827  7429  7989  8285   9223   9981  10185     0   \n",
       "1        100  ...  6012  6184  6576  6779  7470   8027   8366   8848     0   \n",
       "2        100  ...  6725  6935  7875  7997  9032   9205   9497   9869     0   \n",
       "3        100  ...  6904  7521  8185  8818  9279   9547   9855  10169     0   \n",
       "4        100  ...  5500  5802  6082  6268  6619   6905   7131   7210     0   \n",
       "...      ...  ...   ...   ...   ...   ...   ...    ...    ...    ...   ...   \n",
       "3965     200  ...  6594  7751  8433  8705  9275   9907  10685      0     0   \n",
       "3966     200  ...  6039  6559  6881  7248  7669   8116   8448      0     0   \n",
       "3967     200  ...  7022  7236  7505  7909  8150   8853   9135      0     0   \n",
       "3968     200  ...  7873  8269  8820  9373  9831  10432  11116      0     0   \n",
       "3969     200  ...  4818  5238  5534  5842  6068   6383   6552      0     0   \n",
       "\n",
       "     g_25  \n",
       "0       0  \n",
       "1       0  \n",
       "2       0  \n",
       "3       0  \n",
       "4       0  \n",
       "...   ...  \n",
       "3965    0  \n",
       "3966    0  \n",
       "3967    0  \n",
       "3968    0  \n",
       "3969    0  \n",
       "\n",
       "[1985 rows x 43 columns]"
      ]
     },
     "execution_count": 70,
     "metadata": {},
     "output_type": "execute_result"
    }
   ],
   "source": [
    "win_df = df[df['win']=='True']\n",
    "win_df"
   ]
  },
  {
   "cell_type": "code",
   "execution_count": null,
   "id": "765cf471",
   "metadata": {},
   "outputs": [],
   "source": []
  },
  {
   "cell_type": "code",
   "execution_count": null,
   "id": "43b72b95",
   "metadata": {},
   "outputs": [],
   "source": []
  },
  {
   "cell_type": "code",
   "execution_count": null,
   "id": "a625dafe",
   "metadata": {},
   "outputs": [],
   "source": []
  },
  {
   "cell_type": "code",
   "execution_count": null,
   "id": "4e9f2754",
   "metadata": {},
   "outputs": [],
   "source": []
  },
  {
   "cell_type": "code",
   "execution_count": null,
   "id": "47b2eb7f",
   "metadata": {},
   "outputs": [],
   "source": []
  },
  {
   "cell_type": "code",
   "execution_count": null,
   "id": "70fdf6f2",
   "metadata": {},
   "outputs": [],
   "source": []
  }
 ],
 "metadata": {
  "kernelspec": {
   "display_name": "Python 3 (ipykernel)",
   "language": "python",
   "name": "python3"
  },
  "language_info": {
   "codemirror_mode": {
    "name": "ipython",
    "version": 3
   },
   "file_extension": ".py",
   "mimetype": "text/x-python",
   "name": "python",
   "nbconvert_exporter": "python",
   "pygments_lexer": "ipython3",
   "version": "3.9.7"
  }
 },
 "nbformat": 4,
 "nbformat_minor": 5
}
